{
 "cells": [
  {
   "cell_type": "code",
   "execution_count": 1,
   "metadata": {},
   "outputs": [
    {
     "name": "stderr",
     "output_type": "stream",
     "text": [
      "Using TensorFlow backend.\n"
     ]
    }
   ],
   "source": [
    "%matplotlib inline\n",
    "import matplotlib.pyplot as plt\n",
    "import pandas as pd\n",
    "import tensorflow as tf\n",
    "tf.compat.v1.logging.set_verbosity(tf.compat.v1.logging.ERROR)\n",
    "import numpy as np\n",
    "from keras.layers import Dense\n",
    "from keras.models import Sequential\n",
    "from keras.optimizers import SGD\n",
    "from matplotlib import pyplot\n",
    "from scipy.stats import spearmanr\n",
    "from scipy.stats import pearsonr\n",
    "import keras.backend as K\n",
    "from sklearn.datasets import make_regression\n",
    "from sklearn.preprocessing import StandardScaler\n",
    "import keras"
   ]
  },
  {
   "cell_type": "code",
   "execution_count": 2,
   "metadata": {},
   "outputs": [],
   "source": [
    "def pearson_loss(y_true, y_pred):\n",
    "    \"\"\"Pearson correlation coefficient\"\"\"\n",
    "\n",
    "    x = y_true\n",
    "    y = y_pred\n",
    "    xm, ym = x - K.mean(x), y - K.mean(y)\n",
    "    r_num = K.sum(tf.multiply(xm, ym))\n",
    "    r_den = K.sqrt(tf.multiply(K.sum(K.square(xm)), K.sum(K.square(ym))))\n",
    "    r = r_num / (r_den + K.epsilon())\n",
    "    r = K.maximum(K.minimum(r, 1.0), -1.0)\n",
    "    \n",
    "    return  tf.constant(1.0, dtype=x.dtype) - K.square(r)"
   ]
  },
  {
   "cell_type": "markdown",
   "metadata": {},
   "source": [
    "penalized_pearson_loss is a function that maximizes the pearson correlation coefficient between the predicted values and the labels, while trying to have the same mean and variance.  It is the same as pearson_loss except for the addition of a penalty term (0.01*sqdif):https://archive.md/k5aTF"
   ]
  },
  {
   "cell_type": "code",
   "execution_count": 3,
   "metadata": {},
   "outputs": [],
   "source": [
    "def penalized_pearson_loss(x,y, axis=-2):\n",
    "    \"\"\"Penalized Pearson correlation coefficient\"\"\"\n",
    "    x = tf.convert_to_tensor(x)\n",
    "    y = K.cast(y, x.dtype)\n",
    "    n = tf.cast(tf.shape(x)[axis], x.dtype)\n",
    "    xsum = tf.reduce_sum(x, axis=axis)\n",
    "    ysum = tf.reduce_sum(y, axis=axis)\n",
    "    xmean = xsum / n\n",
    "    ymean = ysum / n\n",
    "    xsqsum = tf.reduce_sum( tf.math.squared_difference(x, xmean), axis=axis)\n",
    "    ysqsum = tf.reduce_sum( tf.math.squared_difference(y, ymean), axis=axis)\n",
    "    cov = tf.reduce_sum( (x - xmean) * (y - ymean), axis=axis)\n",
    "    corr = cov / (tf.sqrt(xsqsum * ysqsum)+ K.epsilon())\n",
    "    sqdif = tf.reduce_sum(tf.math.squared_difference(x, y), axis=axis) / n / tf.sqrt(ysqsum / n)\n",
    "    return tf.convert_to_tensor( K.mean(tf.constant(1.0, dtype=x.dtype) - corr + (0.01 * sqdif)) , dtype=tf.float32 )"
   ]
  },
  {
   "cell_type": "markdown",
   "metadata": {},
   "source": [
    "#version with py_func generates error (apparently it is not applying eagerly in my setup as it is supposed to), \n",
    "#so use the pearson_metric underneath\n",
    "\n",
    "def pearson_metric(y_true, y_pred):\n",
    "    \"\"\"Pearson correlation coefficient\"\"\"\n",
    "    \n",
    "    r = tf.py_function(pearsonr, inp=[y_true, y_pred], Tout=tf.float32)\n",
    "    \n",
    "    return  tf.constant(1.0, dtype=y_true.dtype)  - r"
   ]
  },
  {
   "cell_type": "code",
   "execution_count": 4,
   "metadata": {},
   "outputs": [],
   "source": [
    "def pearson_metric(y_true, y_pred):\n",
    "    \"\"\"Pearson correlation coefficient\"\"\"\n",
    "\n",
    "    x = y_true\n",
    "    y = y_pred\n",
    "    xm, ym = x - K.mean(x), y - K.mean(y)\n",
    "    r_num = K.sum(tf.multiply(xm, ym))\n",
    "    r_den = K.sqrt(tf.multiply(K.sum(K.square(xm)), K.sum(K.square(ym))))\n",
    "    r = r_num / (r_den + K.epsilon())\n",
    "    r = K.maximum(K.minimum(r, 1.0), -1.0)\n",
    "    \n",
    "    return tf.constant(1.0, dtype=x.dtype) - K.square(r)"
   ]
  },
  {
   "cell_type": "code",
   "execution_count": 5,
   "metadata": {},
   "outputs": [],
   "source": [
    "num_features = 20\n",
    "# generate regression dataset\n",
    "X, y = make_regression(n_samples=1000, n_features=num_features, noise=0.1, random_state=1)\n",
    "\n",
    "# split into train and test\n",
    "n_train = 500\n",
    "trainX, testX = X[:n_train, :], X[n_train:, :]\n",
    "trainy, testy = y[:n_train], y[n_train:]\n",
    "\n",
    "# reshape 1d arrays to 2d arrays\n",
    "trainy = trainy.reshape(len(trainy), 1)\n",
    "testy = testy.reshape(len(trainy), 1)\n",
    "\n",
    "# create scaler\n",
    "scaler = StandardScaler()\n",
    "# fit scaler on training dataset\n",
    "scaler.fit(trainy)\n",
    "# transform training dataset\n",
    "trainy = scaler.transform(trainy)\n",
    "# transform test dataset\n",
    "testy = scaler.transform(testy)\n",
    "\n",
    "# fit scaler on training dataset\n",
    "scaler.fit(trainX)\n",
    "# transform training dataset\n",
    "trainX = scaler.transform(trainX)\n",
    "# transform test dataset\n",
    "testX = scaler.transform(testX)"
   ]
  },
  {
   "cell_type": "code",
   "execution_count": 9,
   "metadata": {},
   "outputs": [
    {
     "name": "stdout",
     "output_type": "stream",
     "text": [
      "Train on 500 samples, validate on 500 samples\n",
      "Epoch 1/100\n",
      "500/500 [==============================] - 0s 506us/step - loss: 0.8035 - pearson_metric: 0.9089 - mean_squared_error: 2.6759 - val_loss: 0.4678 - val_pearson_metric: 0.6688 - val_mean_squared_error: 3.9548\n",
      "Epoch 2/100\n",
      "500/500 [==============================] - 0s 44us/step - loss: 0.3030 - pearson_metric: 0.4698 - mean_squared_error: 3.8971 - val_loss: 0.2172 - val_pearson_metric: 0.3396 - val_mean_squared_error: 5.2650\n",
      "Epoch 3/100\n",
      "500/500 [==============================] - 0s 42us/step - loss: 0.1713 - pearson_metric: 0.2655 - mean_squared_error: 4.6323 - val_loss: 0.1423 - val_pearson_metric: 0.2199 - val_mean_squared_error: 4.9291\n",
      "Epoch 4/100\n",
      "500/500 [==============================] - 0s 45us/step - loss: 0.1128 - pearson_metric: 0.1725 - mean_squared_error: 4.0621 - val_loss: 0.1120 - val_pearson_metric: 0.1739 - val_mean_squared_error: 4.0973\n",
      "Epoch 5/100\n",
      "500/500 [==============================] - 0s 40us/step - loss: 0.0993 - pearson_metric: 0.1525 - mean_squared_error: 3.4164 - val_loss: 0.0971 - val_pearson_metric: 0.1530 - val_mean_squared_error: 3.3879\n",
      "Epoch 6/100\n",
      "500/500 [==============================] - 0s 38us/step - loss: 0.0814 - pearson_metric: 0.1277 - mean_squared_error: 2.7683 - val_loss: 0.0856 - val_pearson_metric: 0.1374 - val_mean_squared_error: 2.7836\n",
      "Epoch 7/100\n",
      "500/500 [==============================] - 0s 42us/step - loss: 0.0714 - pearson_metric: 0.1136 - mean_squared_error: 2.3357 - val_loss: 0.0784 - val_pearson_metric: 0.1280 - val_mean_squared_error: 2.3646\n",
      "Epoch 8/100\n",
      "500/500 [==============================] - 0s 44us/step - loss: 0.0688 - pearson_metric: 0.1117 - mean_squared_error: 1.9964 - val_loss: 0.0723 - val_pearson_metric: 0.1194 - val_mean_squared_error: 2.0761\n",
      "Epoch 9/100\n",
      "500/500 [==============================] - 0s 46us/step - loss: 0.0627 - pearson_metric: 0.1032 - mean_squared_error: 1.7359 - val_loss: 0.0678 - val_pearson_metric: 0.1132 - val_mean_squared_error: 1.8266\n",
      "Epoch 10/100\n",
      "500/500 [==============================] - 0s 44us/step - loss: 0.0580 - pearson_metric: 0.0961 - mean_squared_error: 1.5584 - val_loss: 0.0642 - val_pearson_metric: 0.1080 - val_mean_squared_error: 1.6659\n",
      "Epoch 11/100\n",
      "500/500 [==============================] - 0s 44us/step - loss: 0.0559 - pearson_metric: 0.0934 - mean_squared_error: 1.4124 - val_loss: 0.0607 - val_pearson_metric: 0.1030 - val_mean_squared_error: 1.5045\n",
      "Epoch 12/100\n",
      "500/500 [==============================] - 0s 42us/step - loss: 0.0508 - pearson_metric: 0.0852 - mean_squared_error: 1.2685 - val_loss: 0.0578 - val_pearson_metric: 0.0988 - val_mean_squared_error: 1.3688\n",
      "Epoch 13/100\n",
      "500/500 [==============================] - 0s 44us/step - loss: 0.0481 - pearson_metric: 0.0814 - mean_squared_error: 1.1701 - val_loss: 0.0550 - val_pearson_metric: 0.0942 - val_mean_squared_error: 1.2769\n",
      "Epoch 14/100\n",
      "500/500 [==============================] - 0s 40us/step - loss: 0.0444 - pearson_metric: 0.0748 - mean_squared_error: 1.0900 - val_loss: 0.0525 - val_pearson_metric: 0.0903 - val_mean_squared_error: 1.1891\n",
      "Epoch 15/100\n",
      "500/500 [==============================] - 0s 42us/step - loss: 0.0418 - pearson_metric: 0.0710 - mean_squared_error: 1.0036 - val_loss: 0.0501 - val_pearson_metric: 0.0866 - val_mean_squared_error: 1.0918\n",
      "Epoch 16/100\n",
      "500/500 [==============================] - 0s 42us/step - loss: 0.0398 - pearson_metric: 0.0678 - mean_squared_error: 0.9298 - val_loss: 0.0479 - val_pearson_metric: 0.0830 - val_mean_squared_error: 1.0234\n",
      "Epoch 17/100\n",
      "500/500 [==============================] - 0s 42us/step - loss: 0.0381 - pearson_metric: 0.0650 - mean_squared_error: 0.8760 - val_loss: 0.0460 - val_pearson_metric: 0.0801 - val_mean_squared_error: 0.9598\n",
      "Epoch 18/100\n",
      "500/500 [==============================] - 0s 42us/step - loss: 0.0368 - pearson_metric: 0.0629 - mean_squared_error: 0.8312 - val_loss: 0.0441 - val_pearson_metric: 0.0768 - val_mean_squared_error: 0.9219\n",
      "Epoch 19/100\n",
      "500/500 [==============================] - 0s 44us/step - loss: 0.0337 - pearson_metric: 0.0575 - mean_squared_error: 0.7759 - val_loss: 0.0426 - val_pearson_metric: 0.0746 - val_mean_squared_error: 0.8479\n",
      "Epoch 20/100\n",
      "500/500 [==============================] - 0s 52us/step - loss: 0.0313 - pearson_metric: 0.0533 - mean_squared_error: 0.7254 - val_loss: 0.0411 - val_pearson_metric: 0.0721 - val_mean_squared_error: 0.8032\n",
      "Epoch 21/100\n",
      "500/500 [==============================] - 0s 42us/step - loss: 0.0312 - pearson_metric: 0.0535 - mean_squared_error: 0.6945 - val_loss: 0.0396 - val_pearson_metric: 0.0694 - val_mean_squared_error: 0.7815\n",
      "Epoch 22/100\n",
      "500/500 [==============================] - 0s 44us/step - loss: 0.0288 - pearson_metric: 0.0489 - mean_squared_error: 0.6681 - val_loss: 0.0382 - val_pearson_metric: 0.0671 - val_mean_squared_error: 0.7422\n",
      "Epoch 23/100\n",
      "500/500 [==============================] - 0s 40us/step - loss: 0.0290 - pearson_metric: 0.0497 - mean_squared_error: 0.6311 - val_loss: 0.0368 - val_pearson_metric: 0.0648 - val_mean_squared_error: 0.7031\n",
      "Epoch 24/100\n",
      "500/500 [==============================] - 0s 42us/step - loss: 0.0284 - pearson_metric: 0.0491 - mean_squared_error: 0.5943 - val_loss: 0.0354 - val_pearson_metric: 0.0624 - val_mean_squared_error: 0.6635\n",
      "Epoch 25/100\n",
      "500/500 [==============================] - 0s 42us/step - loss: 0.0266 - pearson_metric: 0.0457 - mean_squared_error: 0.5673 - val_loss: 0.0340 - val_pearson_metric: 0.0600 - val_mean_squared_error: 0.6340\n",
      "Epoch 26/100\n",
      "500/500 [==============================] - 0s 42us/step - loss: 0.0236 - pearson_metric: 0.0402 - mean_squared_error: 0.5349 - val_loss: 0.0329 - val_pearson_metric: 0.0582 - val_mean_squared_error: 0.5964\n",
      "Epoch 27/100\n",
      "500/500 [==============================] - 0s 44us/step - loss: 0.0248 - pearson_metric: 0.0428 - mean_squared_error: 0.5021 - val_loss: 0.0315 - val_pearson_metric: 0.0559 - val_mean_squared_error: 0.5597\n",
      "Epoch 28/100\n",
      "500/500 [==============================] - 0s 44us/step - loss: 0.0231 - pearson_metric: 0.0398 - mean_squared_error: 0.4741 - val_loss: 0.0306 - val_pearson_metric: 0.0543 - val_mean_squared_error: 0.5364\n",
      "Epoch 29/100\n",
      "500/500 [==============================] - 0s 40us/step - loss: 0.0228 - pearson_metric: 0.0394 - mean_squared_error: 0.4513 - val_loss: 0.0297 - val_pearson_metric: 0.0529 - val_mean_squared_error: 0.5107\n",
      "Epoch 30/100\n",
      "500/500 [==============================] - 0s 42us/step - loss: 0.0208 - pearson_metric: 0.0358 - mean_squared_error: 0.4258 - val_loss: 0.0289 - val_pearson_metric: 0.0514 - val_mean_squared_error: 0.4801\n",
      "Epoch 31/100\n",
      "500/500 [==============================] - 0s 44us/step - loss: 0.0196 - pearson_metric: 0.0337 - mean_squared_error: 0.4018 - val_loss: 0.0279 - val_pearson_metric: 0.0497 - val_mean_squared_error: 0.4556\n",
      "Epoch 32/100\n",
      "500/500 [==============================] - 0s 44us/step - loss: 0.0187 - pearson_metric: 0.0322 - mean_squared_error: 0.3806 - val_loss: 0.0269 - val_pearson_metric: 0.0480 - val_mean_squared_error: 0.4351\n",
      "Epoch 33/100\n",
      "500/500 [==============================] - 0s 44us/step - loss: 0.0172 - pearson_metric: 0.0295 - mean_squared_error: 0.3610 - val_loss: 0.0261 - val_pearson_metric: 0.0466 - val_mean_squared_error: 0.4127\n",
      "Epoch 34/100\n",
      "500/500 [==============================] - 0s 48us/step - loss: 0.0176 - pearson_metric: 0.0303 - mean_squared_error: 0.3442 - val_loss: 0.0254 - val_pearson_metric: 0.0456 - val_mean_squared_error: 0.3959\n",
      "Epoch 35/100\n",
      "500/500 [==============================] - 0s 42us/step - loss: 0.0175 - pearson_metric: 0.0304 - mean_squared_error: 0.3268 - val_loss: 0.0247 - val_pearson_metric: 0.0443 - val_mean_squared_error: 0.3739\n",
      "Epoch 36/100\n",
      "500/500 [==============================] - 0s 40us/step - loss: 0.0161 - pearson_metric: 0.0279 - mean_squared_error: 0.3096 - val_loss: 0.0240 - val_pearson_metric: 0.0432 - val_mean_squared_error: 0.3573\n",
      "Epoch 37/100\n",
      "500/500 [==============================] - 0s 44us/step - loss: 0.0152 - pearson_metric: 0.0264 - mean_squared_error: 0.2924 - val_loss: 0.0236 - val_pearson_metric: 0.0425 - val_mean_squared_error: 0.3380\n",
      "Epoch 38/100\n"
     ]
    },
    {
     "name": "stdout",
     "output_type": "stream",
     "text": [
      "500/500 [==============================] - 0s 44us/step - loss: 0.0156 - pearson_metric: 0.0273 - mean_squared_error: 0.2765 - val_loss: 0.0229 - val_pearson_metric: 0.0414 - val_mean_squared_error: 0.3223\n",
      "Epoch 39/100\n",
      "500/500 [==============================] - 0s 42us/step - loss: 0.0150 - pearson_metric: 0.0262 - mean_squared_error: 0.2633 - val_loss: 0.0223 - val_pearson_metric: 0.0404 - val_mean_squared_error: 0.3046\n",
      "Epoch 40/100\n",
      "500/500 [==============================] - 0s 40us/step - loss: 0.0137 - pearson_metric: 0.0238 - mean_squared_error: 0.2467 - val_loss: 0.0216 - val_pearson_metric: 0.0392 - val_mean_squared_error: 0.2856\n",
      "Epoch 41/100\n",
      "500/500 [==============================] - 0s 40us/step - loss: 0.0138 - pearson_metric: 0.0243 - mean_squared_error: 0.2307 - val_loss: 0.0212 - val_pearson_metric: 0.0386 - val_mean_squared_error: 0.2690\n",
      "Epoch 42/100\n",
      "500/500 [==============================] - 0s 42us/step - loss: 0.0131 - pearson_metric: 0.0229 - mean_squared_error: 0.2165 - val_loss: 0.0206 - val_pearson_metric: 0.0376 - val_mean_squared_error: 0.2550\n",
      "Epoch 43/100\n",
      "500/500 [==============================] - 0s 42us/step - loss: 0.0141 - pearson_metric: 0.0250 - mean_squared_error: 0.2054 - val_loss: 0.0202 - val_pearson_metric: 0.0370 - val_mean_squared_error: 0.2423\n",
      "Epoch 44/100\n",
      "500/500 [==============================] - 0s 46us/step - loss: 0.0125 - pearson_metric: 0.0221 - mean_squared_error: 0.1932 - val_loss: 0.0198 - val_pearson_metric: 0.0363 - val_mean_squared_error: 0.2282\n",
      "Epoch 45/100\n",
      "500/500 [==============================] - 0s 40us/step - loss: 0.0126 - pearson_metric: 0.0223 - mean_squared_error: 0.1839 - val_loss: 0.0194 - val_pearson_metric: 0.0355 - val_mean_squared_error: 0.2206\n",
      "Epoch 46/100\n",
      "500/500 [==============================] - 0s 42us/step - loss: 0.0117 - pearson_metric: 0.0207 - mean_squared_error: 0.1742 - val_loss: 0.0191 - val_pearson_metric: 0.0351 - val_mean_squared_error: 0.2076\n",
      "Epoch 47/100\n",
      "500/500 [==============================] - 0s 40us/step - loss: 0.0112 - pearson_metric: 0.0199 - mean_squared_error: 0.1643 - val_loss: 0.0188 - val_pearson_metric: 0.0347 - val_mean_squared_error: 0.1956\n",
      "Epoch 48/100\n",
      "500/500 [==============================] - 0s 42us/step - loss: 0.0105 - pearson_metric: 0.0186 - mean_squared_error: 0.1534 - val_loss: 0.0186 - val_pearson_metric: 0.0343 - val_mean_squared_error: 0.1847\n",
      "Epoch 49/100\n",
      "500/500 [==============================] - 0s 44us/step - loss: 0.0109 - pearson_metric: 0.0196 - mean_squared_error: 0.1453 - val_loss: 0.0180 - val_pearson_metric: 0.0332 - val_mean_squared_error: 0.1757\n",
      "Epoch 50/100\n",
      "500/500 [==============================] - 0s 40us/step - loss: 0.0107 - pearson_metric: 0.0193 - mean_squared_error: 0.1355 - val_loss: 0.0178 - val_pearson_metric: 0.0331 - val_mean_squared_error: 0.1666\n",
      "Epoch 51/100\n",
      "500/500 [==============================] - ETA: 0s - loss: 0.0063 - pearson_metric: 0.0107 - mean_squared_error: 0.128 - 0s 42us/step - loss: 0.0101 - pearson_metric: 0.0182 - mean_squared_error: 0.1285 - val_loss: 0.0174 - val_pearson_metric: 0.0323 - val_mean_squared_error: 0.1595\n",
      "Epoch 52/100\n",
      "500/500 [==============================] - 0s 42us/step - loss: 0.0102 - pearson_metric: 0.0184 - mean_squared_error: 0.1234 - val_loss: 0.0170 - val_pearson_metric: 0.0317 - val_mean_squared_error: 0.1511\n",
      "Epoch 53/100\n",
      "500/500 [==============================] - 0s 42us/step - loss: 0.0092 - pearson_metric: 0.0166 - mean_squared_error: 0.1148 - val_loss: 0.0169 - val_pearson_metric: 0.0315 - val_mean_squared_error: 0.1425\n",
      "Epoch 54/100\n",
      "500/500 [==============================] - 0s 44us/step - loss: 0.0093 - pearson_metric: 0.0168 - mean_squared_error: 0.1079 - val_loss: 0.0167 - val_pearson_metric: 0.0312 - val_mean_squared_error: 0.1341\n",
      "Epoch 55/100\n",
      "500/500 [==============================] - 0s 44us/step - loss: 0.0090 - pearson_metric: 0.0163 - mean_squared_error: 0.1026 - val_loss: 0.0163 - val_pearson_metric: 0.0306 - val_mean_squared_error: 0.1291\n",
      "Epoch 56/100\n",
      "500/500 [==============================] - 0s 48us/step - loss: 0.0089 - pearson_metric: 0.0162 - mean_squared_error: 0.0971 - val_loss: 0.0163 - val_pearson_metric: 0.0305 - val_mean_squared_error: 0.1223\n",
      "Epoch 57/100\n",
      "500/500 [==============================] - 0s 42us/step - loss: 0.0087 - pearson_metric: 0.0159 - mean_squared_error: 0.0902 - val_loss: 0.0159 - val_pearson_metric: 0.0299 - val_mean_squared_error: 0.1143\n",
      "Epoch 58/100\n",
      "500/500 [==============================] - 0s 46us/step - loss: 0.0082 - pearson_metric: 0.0149 - mean_squared_error: 0.0845 - val_loss: 0.0156 - val_pearson_metric: 0.0294 - val_mean_squared_error: 0.1093\n",
      "Epoch 59/100\n",
      "500/500 [==============================] - 0s 42us/step - loss: 0.0081 - pearson_metric: 0.0148 - mean_squared_error: 0.0806 - val_loss: 0.0154 - val_pearson_metric: 0.0291 - val_mean_squared_error: 0.1060\n",
      "Epoch 60/100\n",
      "500/500 [==============================] - 0s 40us/step - loss: 0.0085 - pearson_metric: 0.0157 - mean_squared_error: 0.0758 - val_loss: 0.0152 - val_pearson_metric: 0.0286 - val_mean_squared_error: 0.0989\n",
      "Epoch 61/100\n",
      "500/500 [==============================] - 0s 42us/step - loss: 0.0077 - pearson_metric: 0.0141 - mean_squared_error: 0.0706 - val_loss: 0.0148 - val_pearson_metric: 0.0281 - val_mean_squared_error: 0.0951\n",
      "Epoch 62/100\n",
      "500/500 [==============================] - 0s 42us/step - loss: 0.0075 - pearson_metric: 0.0138 - mean_squared_error: 0.0671 - val_loss: 0.0148 - val_pearson_metric: 0.0280 - val_mean_squared_error: 0.0904\n",
      "Epoch 63/100\n",
      "500/500 [==============================] - 0s 42us/step - loss: 0.0079 - pearson_metric: 0.0146 - mean_squared_error: 0.0639 - val_loss: 0.0145 - val_pearson_metric: 0.0275 - val_mean_squared_error: 0.0870\n",
      "Epoch 64/100\n",
      "500/500 [==============================] - 0s 42us/step - loss: 0.0073 - pearson_metric: 0.0135 - mean_squared_error: 0.0597 - val_loss: 0.0144 - val_pearson_metric: 0.0274 - val_mean_squared_error: 0.0815\n",
      "Epoch 65/100\n",
      "500/500 [==============================] - ETA: 0s - loss: 0.0112 - pearson_metric: 0.0214 - mean_squared_error: 0.047 - 0s 40us/step - loss: 0.0073 - pearson_metric: 0.0136 - mean_squared_error: 0.0564 - val_loss: 0.0140 - val_pearson_metric: 0.0266 - val_mean_squared_error: 0.0791\n",
      "Epoch 66/100\n",
      "500/500 [==============================] - 0s 42us/step - loss: 0.0069 - pearson_metric: 0.0128 - mean_squared_error: 0.0563 - val_loss: 0.0139 - val_pearson_metric: 0.0265 - val_mean_squared_error: 0.0771\n",
      "Epoch 67/100\n",
      "500/500 [==============================] - 0s 42us/step - loss: 0.0069 - pearson_metric: 0.0128 - mean_squared_error: 0.0515 - val_loss: 0.0138 - val_pearson_metric: 0.0264 - val_mean_squared_error: 0.0716\n",
      "Epoch 68/100\n",
      "500/500 [==============================] - 0s 56us/step - loss: 0.0072 - pearson_metric: 0.0136 - mean_squared_error: 0.0479 - val_loss: 0.0137 - val_pearson_metric: 0.0262 - val_mean_squared_error: 0.0700\n",
      "Epoch 69/100\n",
      "500/500 [==============================] - ETA: 0s - loss: 0.0066 - pearson_metric: 0.0124 - mean_squared_error: 0.054 - 0s 50us/step - loss: 0.0068 - pearson_metric: 0.0127 - mean_squared_error: 0.0459 - val_loss: 0.0136 - val_pearson_metric: 0.0260 - val_mean_squared_error: 0.0675\n",
      "Epoch 70/100\n",
      "500/500 [==============================] - 0s 42us/step - loss: 0.0067 - pearson_metric: 0.0126 - mean_squared_error: 0.0462 - val_loss: 0.0134 - val_pearson_metric: 0.0255 - val_mean_squared_error: 0.0669\n",
      "Epoch 71/100\n",
      "500/500 [==============================] - 0s 42us/step - loss: 0.0062 - pearson_metric: 0.0116 - mean_squared_error: 0.0438 - val_loss: 0.0132 - val_pearson_metric: 0.0252 - val_mean_squared_error: 0.0633\n",
      "Epoch 72/100\n",
      "500/500 [==============================] - 0s 42us/step - loss: 0.0062 - pearson_metric: 0.0117 - mean_squared_error: 0.0406 - val_loss: 0.0130 - val_pearson_metric: 0.0250 - val_mean_squared_error: 0.0606\n",
      "Epoch 73/100\n",
      "500/500 [==============================] - 0s 44us/step - loss: 0.0063 - pearson_metric: 0.0119 - mean_squared_error: 0.0392 - val_loss: 0.0129 - val_pearson_metric: 0.0248 - val_mean_squared_error: 0.0587\n",
      "Epoch 74/100\n"
     ]
    },
    {
     "name": "stdout",
     "output_type": "stream",
     "text": [
      "500/500 [==============================] - 0s 46us/step - loss: 0.0059 - pearson_metric: 0.0111 - mean_squared_error: 0.0374 - val_loss: 0.0128 - val_pearson_metric: 0.0245 - val_mean_squared_error: 0.0567\n",
      "Epoch 75/100\n",
      "500/500 [==============================] - 0s 44us/step - loss: 0.0058 - pearson_metric: 0.0110 - mean_squared_error: 0.0352 - val_loss: 0.0125 - val_pearson_metric: 0.0241 - val_mean_squared_error: 0.0543\n",
      "Epoch 76/100\n",
      "500/500 [==============================] - 0s 44us/step - loss: 0.0060 - pearson_metric: 0.0114 - mean_squared_error: 0.0353 - val_loss: 0.0125 - val_pearson_metric: 0.0240 - val_mean_squared_error: 0.0538\n",
      "Epoch 77/100\n",
      "500/500 [==============================] - 0s 46us/step - loss: 0.0058 - pearson_metric: 0.0110 - mean_squared_error: 0.0329 - val_loss: 0.0124 - val_pearson_metric: 0.0238 - val_mean_squared_error: 0.0506\n",
      "Epoch 78/100\n",
      "500/500 [==============================] - 0s 46us/step - loss: 0.0058 - pearson_metric: 0.0109 - mean_squared_error: 0.0323 - val_loss: 0.0123 - val_pearson_metric: 0.0235 - val_mean_squared_error: 0.0515\n",
      "Epoch 79/100\n",
      "500/500 [==============================] - 0s 42us/step - loss: 0.0060 - pearson_metric: 0.0113 - mean_squared_error: 0.0313 - val_loss: 0.0121 - val_pearson_metric: 0.0233 - val_mean_squared_error: 0.0483\n",
      "Epoch 80/100\n",
      "500/500 [==============================] - 0s 46us/step - loss: 0.0055 - pearson_metric: 0.0105 - mean_squared_error: 0.0288 - val_loss: 0.0119 - val_pearson_metric: 0.0230 - val_mean_squared_error: 0.0469\n",
      "Epoch 81/100\n",
      "500/500 [==============================] - 0s 42us/step - loss: 0.0054 - pearson_metric: 0.0102 - mean_squared_error: 0.0285 - val_loss: 0.0118 - val_pearson_metric: 0.0226 - val_mean_squared_error: 0.0469\n",
      "Epoch 82/100\n",
      "500/500 [==============================] - 0s 44us/step - loss: 0.0056 - pearson_metric: 0.0106 - mean_squared_error: 0.0279 - val_loss: 0.0117 - val_pearson_metric: 0.0225 - val_mean_squared_error: 0.0452\n",
      "Epoch 83/100\n",
      "500/500 [==============================] - 0s 46us/step - loss: 0.0055 - pearson_metric: 0.0106 - mean_squared_error: 0.0259 - val_loss: 0.0116 - val_pearson_metric: 0.0223 - val_mean_squared_error: 0.0430\n",
      "Epoch 84/100\n",
      "500/500 [==============================] - 0s 40us/step - loss: 0.0049 - pearson_metric: 0.0093 - mean_squared_error: 0.0251 - val_loss: 0.0114 - val_pearson_metric: 0.0219 - val_mean_squared_error: 0.0426\n",
      "Epoch 85/100\n",
      "500/500 [==============================] - 0s 44us/step - loss: 0.0050 - pearson_metric: 0.0094 - mean_squared_error: 0.0240 - val_loss: 0.0114 - val_pearson_metric: 0.0219 - val_mean_squared_error: 0.0410\n",
      "Epoch 86/100\n",
      "500/500 [==============================] - 0s 46us/step - loss: 0.0048 - pearson_metric: 0.0092 - mean_squared_error: 0.0235 - val_loss: 0.0112 - val_pearson_metric: 0.0216 - val_mean_squared_error: 0.0407\n",
      "Epoch 87/100\n",
      "500/500 [==============================] - 0s 40us/step - loss: 0.0046 - pearson_metric: 0.0088 - mean_squared_error: 0.0231 - val_loss: 0.0111 - val_pearson_metric: 0.0215 - val_mean_squared_error: 0.0396\n",
      "Epoch 88/100\n",
      "500/500 [==============================] - 0s 42us/step - loss: 0.0048 - pearson_metric: 0.0091 - mean_squared_error: 0.0225 - val_loss: 0.0112 - val_pearson_metric: 0.0215 - val_mean_squared_error: 0.0390\n",
      "Epoch 89/100\n",
      "500/500 [==============================] - 0s 40us/step - loss: 0.0048 - pearson_metric: 0.0091 - mean_squared_error: 0.0209 - val_loss: 0.0110 - val_pearson_metric: 0.0213 - val_mean_squared_error: 0.0373\n",
      "Epoch 90/100\n",
      "500/500 [==============================] - 0s 40us/step - loss: 0.0048 - pearson_metric: 0.0092 - mean_squared_error: 0.0200 - val_loss: 0.0109 - val_pearson_metric: 0.0210 - val_mean_squared_error: 0.0370\n",
      "Epoch 91/100\n",
      "500/500 [==============================] - 0s 42us/step - loss: 0.0046 - pearson_metric: 0.0089 - mean_squared_error: 0.0200 - val_loss: 0.0108 - val_pearson_metric: 0.0209 - val_mean_squared_error: 0.0362\n",
      "Epoch 92/100\n",
      "500/500 [==============================] - 0s 42us/step - loss: 0.0044 - pearson_metric: 0.0084 - mean_squared_error: 0.0195 - val_loss: 0.0107 - val_pearson_metric: 0.0206 - val_mean_squared_error: 0.0357\n",
      "Epoch 93/100\n",
      "500/500 [==============================] - 0s 42us/step - loss: 0.0045 - pearson_metric: 0.0086 - mean_squared_error: 0.0180 - val_loss: 0.0106 - val_pearson_metric: 0.0205 - val_mean_squared_error: 0.0339\n",
      "Epoch 94/100\n",
      "500/500 [==============================] - 0s 42us/step - loss: 0.0043 - pearson_metric: 0.0082 - mean_squared_error: 0.0173 - val_loss: 0.0105 - val_pearson_metric: 0.0204 - val_mean_squared_error: 0.0339\n",
      "Epoch 95/100\n",
      "500/500 [==============================] - 0s 42us/step - loss: 0.0043 - pearson_metric: 0.0083 - mean_squared_error: 0.0170 - val_loss: 0.0103 - val_pearson_metric: 0.0199 - val_mean_squared_error: 0.0332\n",
      "Epoch 96/100\n",
      "500/500 [==============================] - 0s 44us/step - loss: 0.0043 - pearson_metric: 0.0082 - mean_squared_error: 0.0176 - val_loss: 0.0104 - val_pearson_metric: 0.0201 - val_mean_squared_error: 0.0337\n",
      "Epoch 97/100\n",
      "500/500 [==============================] - 0s 44us/step - loss: 0.0041 - pearson_metric: 0.0079 - mean_squared_error: 0.0178 - val_loss: 0.0102 - val_pearson_metric: 0.0197 - val_mean_squared_error: 0.0327\n",
      "Epoch 98/100\n",
      "500/500 [==============================] - 0s 48us/step - loss: 0.0042 - pearson_metric: 0.0080 - mean_squared_error: 0.0164 - val_loss: 0.0101 - val_pearson_metric: 0.0196 - val_mean_squared_error: 0.0317\n",
      "Epoch 99/100\n",
      "500/500 [==============================] - 0s 42us/step - loss: 0.0041 - pearson_metric: 0.0080 - mean_squared_error: 0.0155 - val_loss: 0.0099 - val_pearson_metric: 0.0193 - val_mean_squared_error: 0.0306\n",
      "Epoch 100/100\n",
      "500/500 [==============================] - 0s 44us/step - loss: 0.0042 - pearson_metric: 0.0081 - mean_squared_error: 0.0145 - val_loss: 0.0100 - val_pearson_metric: 0.0194 - val_mean_squared_error: 0.0302\n",
      "500/500 [==============================] - 0s 16us/step\n",
      "500/500 [==============================] - 0s 16us/step\n",
      "Train loss: 0.004, Test loss: 0.010\n",
      "Train metric: 0.008, Test metric: 0.019\n"
     ]
    },
    {
     "data": {
      "image/png": "[encoded data removed]",
      "text/plain": [
       "<Figure size 432x288 with 1 Axes>"
      ]
     },
     "metadata": {
      "needs_background": "light"
     },
     "output_type": "display_data"
    }
   ],
   "source": [
    "# mlp with scaled inputs outputs on the regression problem using custom loss and custom metric\n",
    "# define model\n",
    "model = Sequential()\n",
    "model.add(Dense(25, input_dim=20, activation='relu', kernel_initializer='he_uniform'))\n",
    "model.add(Dense(1, activation='linear'))\n",
    "# compile model using as loss: penalized_pearson_loss; as metric: pearson_metric AND kears.losses.mean_squared_error\n",
    "model.compile(loss=penalized_pearson_loss, optimizer=SGD(lr=0.01, momentum=0.9), metrics=[pearson_metric, keras.losses.mean_squared_error])\n",
    "#model.compile(loss='mean_squared_error', optimizer=SGD(lr=0.01, momentum=0.9))\n",
    "# fit model\n",
    "history = model.fit(trainX, trainy, validation_data=(testX, testy), epochs=100, verbose=1)\n",
    "# evaluate the model\n",
    "train_e = model.evaluate(trainX, trainy, verbose=1)\n",
    "test_e = model.evaluate(testX, testy, verbose=1)\n",
    "print('Train loss: %.3f, Test loss: %.3f' % (train_e[0], test_e[0])) #when using custom loss and custom metric\n",
    "print('Train metric: %.3f, Test metric: %.3f' % (train_e[1], test_e[1])) #when using custom loss and custom metric\n",
    "#print('Train loss: %.3f, Test loss: %.3f' % (train_e, test_e)) \n",
    "#plot loss during training\n",
    "plt.title('Loss / Error')\n",
    "plt.plot(history.history['loss'], label='train')\n",
    "plt.plot(history.history['val_loss'], label='test')\n",
    "plt.legend()\n",
    "plt.show()"
   ]
  },
  {
   "cell_type": "markdown",
   "metadata": {},
   "source": [
    "Since the spearman_loss function for tensorflow 1.5 in spearman_corr_incomplete.ipynb cannot be used without a gradient, you have three options. "
   ]
  },
  {
   "cell_type": "markdown",
   "metadata": {},
   "source": [
    "1. You can program a gradient for the function."
   ]
  },
  {
   "cell_type": "markdown",
   "metadata": {},
   "source": [
    "2. You can use the spearman_loss function for tensorflow 2.6 in spearman_corr_TSFL2.ipynb (but we have not tested this)."
   ]
  },
  {
   "cell_type": "markdown",
   "metadata": {},
   "source": [
    "3. You can use the penalized_pearson_loss function instead of the spearman_loss function (as we have done here). But make sure that MSE also converges by checking the MSE_metric."
   ]
  },
  {
   "cell_type": "code",
   "execution_count": 10,
   "metadata": {},
   "outputs": [
    {
     "data": {
      "text/html": [
       "<div>\n",
       "<style scoped>\n",
       "    .dataframe tbody tr th:only-of-type {\n",
       "        vertical-align: middle;\n",
       "    }\n",
       "\n",
       "    .dataframe tbody tr th {\n",
       "        vertical-align: top;\n",
       "    }\n",
       "\n",
       "    .dataframe thead th {\n",
       "        text-align: right;\n",
       "    }\n",
       "</style>\n",
       "<table border=\"1\" class=\"dataframe\">\n",
       "  <thead>\n",
       "    <tr style=\"text-align: right;\">\n",
       "      <th></th>\n",
       "      <th>val_loss</th>\n",
       "      <th>val_pearson_metric</th>\n",
       "      <th>val_mean_squared_error</th>\n",
       "      <th>loss</th>\n",
       "      <th>pearson_metric</th>\n",
       "      <th>mean_squared_error</th>\n",
       "    </tr>\n",
       "  </thead>\n",
       "  <tbody>\n",
       "    <tr>\n",
       "      <th>0</th>\n",
       "      <td>0.467809</td>\n",
       "      <td>0.668800</td>\n",
       "      <td>3.954839</td>\n",
       "      <td>0.803468</td>\n",
       "      <td>0.908922</td>\n",
       "      <td>2.675939</td>\n",
       "    </tr>\n",
       "    <tr>\n",
       "      <th>1</th>\n",
       "      <td>0.217232</td>\n",
       "      <td>0.339591</td>\n",
       "      <td>5.264998</td>\n",
       "      <td>0.303012</td>\n",
       "      <td>0.469812</td>\n",
       "      <td>3.897144</td>\n",
       "    </tr>\n",
       "    <tr>\n",
       "      <th>2</th>\n",
       "      <td>0.142268</td>\n",
       "      <td>0.219917</td>\n",
       "      <td>4.929149</td>\n",
       "      <td>0.171302</td>\n",
       "      <td>0.265464</td>\n",
       "      <td>4.632336</td>\n",
       "    </tr>\n",
       "  </tbody>\n",
       "</table>\n",
       "</div>"
      ],
      "text/plain": [
       "   val_loss  val_pearson_metric  val_mean_squared_error      loss  \\\n",
       "0  0.467809            0.668800                3.954839  0.803468   \n",
       "1  0.217232            0.339591                5.264998  0.303012   \n",
       "2  0.142268            0.219917                4.929149  0.171302   \n",
       "\n",
       "   pearson_metric  mean_squared_error  \n",
       "0        0.908922            2.675939  \n",
       "1        0.469812            3.897144  \n",
       "2        0.265464            4.632336  "
      ]
     },
     "execution_count": 10,
     "metadata": {},
     "output_type": "execute_result"
    }
   ],
   "source": [
    "df = pd.DataFrame(history.history)\n",
    "df.head(3)"
   ]
  },
  {
   "cell_type": "code",
   "execution_count": 11,
   "metadata": {},
   "outputs": [
    {
     "data": {
      "text/plain": [
       "<AxesSubplot:>"
      ]
     },
     "execution_count": 11,
     "metadata": {},
     "output_type": "execute_result"
    },
    {
     "data": {
      "image/png": "[encoded data removed]",
      "text/plain": [
       "<Figure size 432x288 with 1 Axes>"
      ]
     },
     "metadata": {
      "needs_background": "light"
     },
     "output_type": "display_data"
    }
   ],
   "source": [
    "df.plot()"
   ]
  },
  {
   "cell_type": "markdown",
   "metadata": {},
   "source": [
    "Penalized_pearson_loss has the advantage that it is easy to interpret, unlike MSE or a negative value of R-squared (which can arise in a non-linear model). But it has a disadvantage: When penalized_pearson_loss is used as loss (as it is used here), it minimizes both direction differences and distance differences.  But it does so at different rates: it minimizes direction differences quickly and distance differences more slowly. This is why, when using the penalized_pearson_loss, the mse_metric converges more slowly. But the important thing is that it (MSE, distance) eventually converges after about 70 epochs."
   ]
  },
  {
   "cell_type": "markdown",
   "metadata": {},
   "source": [
    "For non-linear models you can use loss: MSE ('mean_squared_error'), and metric: pearson_metric. You can also experiment with loss: penalized_pearson_loss, and metric: kears.losses.mean_squared_error, making sure that convergence is happening. "
   ]
  },
  {
   "cell_type": "markdown",
   "metadata": {},
   "source": [
    "To see more about the comparative performance of the penalized_pearson_loss, see pearson_corr_TSFL2_EXTRADOCUMENTATION.ipynb (running the ipynb requires tensorflow 2, but you can see the graphs which show that the penalized_pearson_loss minimizes well while dealing with noisy data.) "
   ]
  },
  {
   "cell_type": "code",
   "execution_count": null,
   "metadata": {},
   "outputs": [],
   "source": []
  }
 ],
 "metadata": {
  "kernelspec": {
   "display_name": "Python 3",
   "language": "python",
   "name": "python3"
  },
  "language_info": {
   "codemirror_mode": {
    "name": "ipython",
    "version": 3
   },
   "file_extension": ".py",
   "mimetype": "text/x-python",
   "name": "python",
   "nbconvert_exporter": "python",
   "pygments_lexer": "ipython3",
   "version": "3.7.9"
  }
 },
 "nbformat": 4,
 "nbformat_minor": 2
}
